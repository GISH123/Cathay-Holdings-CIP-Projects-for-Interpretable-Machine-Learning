{
 "cells": [
  {
   "cell_type": "code",
   "execution_count": 1,
   "metadata": {},
   "outputs": [],
   "source": [
    "import pandas as pd\n",
    "from sklearn.model_selection import train_test_split\n",
    "df = pd.read_csv(\"bank.csv\",sep=\";\")"
   ]
  },
  {
   "cell_type": "code",
   "execution_count": 2,
   "metadata": {},
   "outputs": [],
   "source": [
    "train_cols = df.columns[0:-1]\n",
    "label = df.columns[-1]\n",
    "X = df[train_cols]\n",
    "y = df[label].apply(lambda x: 0 if x == \"no\" else 1) # 0為沒有簽定期存款(term deposit), 1為有存款 \n",
    "X_encodings = pd.get_dummies(X, prefix_sep='.')\n",
    "feature_names = list(X_encodings.columns)\n",
    "\n",
    "seed = 1\n",
    "X_train, X_test, y_train, y_test = train_test_split(X_encodings, y, test_size=0.20, random_state=seed)\n"
   ]
  },
  {
   "cell_type": "markdown",
   "metadata": {},
   "source": [
    "# 訓練一般可解釋regression模型(LinearRegression、RegressionTree)"
   ]
  },
  {
   "cell_type": "code",
   "execution_count": 3,
   "metadata": {},
   "outputs": [],
   "source": [
    "from interpret import show\n",
    "from interpret.perf import RegressionPerf\n",
    "from interpret.glassbox import LinearRegression, RegressionTree\n",
    "\n",
    "\n",
    "\n",
    "lr = LinearRegression(random_state=seed)\n",
    "lr.fit(X_train, y_train)\n",
    "\n",
    "rt = RegressionTree(random_state=seed)\n",
    "rt.fit(X_train, y_train)\n",
    "\n",
    "\n",
    "lr_perf = RegressionPerf(lr.predict).explain_perf(X_test, y_test, name='Linear Regression')\n",
    "rt_perf = RegressionPerf(rt.predict).explain_perf(X_test, y_test, name='Regression Tree')\n"
   ]
  },
  {
   "cell_type": "code",
   "execution_count": 4,
   "metadata": {},
   "outputs": [],
   "source": [
    "lr_global = lr.explain_global(name='Linear Regression Global')\n",
    "rt_global = rt.explain_global(name='Regression Tree Global')\n",
    "\n",
    "lr_local = lr.explain_local(X_test[:10], y_test[:10], name='Linear Regression Local')\n",
    "rt_local = rt.explain_local(X_test[:10], y_test[:10],name='Regression Tree local')"
   ]
  },
  {
   "cell_type": "code",
   "execution_count": 5,
   "metadata": {},
   "outputs": [],
   "source": [
    "lr_perf = RegressionPerf(lr.predict).explain_perf(X_test, y_test, name='Linear Regression performance')\n",
    "rt_perf = RegressionPerf(rt.predict).explain_perf(X_test, y_test, name='Regression Tree performance')"
   ]
  },
  {
   "cell_type": "markdown",
   "metadata": {},
   "source": [
    "# Train an EBM Model"
   ]
  },
  {
   "cell_type": "code",
   "execution_count": 6,
   "metadata": {},
   "outputs": [],
   "source": [
    "from interpret.glassbox import ExplainableBoostingRegressor\n",
    "ebm = ExplainableBoostingRegressor(random_state=seed)\n",
    "ebm.fit(X_train, y_train)   #Works on dataframes and numpy arrays\n",
    "\n",
    "\n",
    "ebm_global = ebm.explain_global(name='EBM global')\n",
    "ebm_local = ebm.explain_local(X_test[:5], y_test[:5], name='EBM local')\n",
    "ebm_perf = RegressionPerf(ebm.predict).explain_perf(X_test, y_test, name='EBM perf')"
   ]
  },
  {
   "cell_type": "markdown",
   "metadata": {},
   "source": [
    "# 顯示全部"
   ]
  },
  {
   "cell_type": "code",
   "execution_count": 7,
   "metadata": {},
   "outputs": [
    {
     "data": {
      "text/html": [
       "<!-- http://127.0.0.1:7802/1645294906760/ -->\n",
       "<a href=\"http://127.0.0.1:7802/1645294906760/\" target=\"_new\">Open in new window</a><iframe src=\"http://127.0.0.1:7802/1645294906760/\" width=100% height=800 frameBorder=\"0\"></iframe>"
      ]
     },
     "metadata": {},
     "output_type": "display_data"
    }
   ],
   "source": [
    "show([lr_perf,rt_perf,lr_global,rt_global,lr_local,rt_local,ebm_global ,ebm_local,ebm_perf])"
   ]
  },
  {
   "cell_type": "markdown",
   "metadata": {},
   "source": [
    "# 顯示Morris Sensitivty for 3 models"
   ]
  },
  {
   "cell_type": "code",
   "execution_count": 8,
   "metadata": {},
   "outputs": [
    {
     "data": {
      "text/html": [
       "<!-- http://127.0.0.1:7802/1645350613640/ -->\n",
       "<a href=\"http://127.0.0.1:7802/1645350613640/\" target=\"_new\">Open in new window</a><iframe src=\"http://127.0.0.1:7802/1645350613640/\" width=100% height=800 frameBorder=\"0\"></iframe>"
      ]
     },
     "metadata": {},
     "output_type": "display_data"
    }
   ],
   "source": [
    "from interpret.blackbox import MorrisSensitivity\n",
    "\n",
    "sensitivity_lr = MorrisSensitivity(predict_fn=lr.predict, data=X_train)\n",
    "sensitivity_lr_global = sensitivity_lr.explain_global(name=\"Global Sensitivity for linear r\")\n",
    "\n",
    "sensitivity_rt = MorrisSensitivity(predict_fn=rt.predict, data=X_train)\n",
    "sensitivity_rt_global = sensitivity_rt.explain_global(name=\"Global Sensitivity for regression tree\")\n",
    "\n",
    "sensitivity_ebm = MorrisSensitivity(predict_fn=ebm.predict, data=X_train)\n",
    "sensitivity_ebm_global = sensitivity_ebm.explain_global(name=\"Global Sensitivity for EBM\")\n",
    "\n",
    "show([sensitivity_lr_global,sensitivity_rt_global,sensitivity_ebm_global])"
   ]
  },
  {
   "cell_type": "code",
   "execution_count": null,
   "metadata": {},
   "outputs": [],
   "source": []
  },
  {
   "cell_type": "code",
   "execution_count": null,
   "metadata": {},
   "outputs": [],
   "source": []
  }
 ],
 "metadata": {
  "kernelspec": {
   "display_name": "Python 3",
   "language": "python",
   "name": "python3"
  },
  "language_info": {
   "codemirror_mode": {
    "name": "ipython",
    "version": 3
   },
   "file_extension": ".py",
   "mimetype": "text/x-python",
   "name": "python",
   "nbconvert_exporter": "python",
   "pygments_lexer": "ipython3",
   "version": "3.7.3"
  }
 },
 "nbformat": 4,
 "nbformat_minor": 2
}
