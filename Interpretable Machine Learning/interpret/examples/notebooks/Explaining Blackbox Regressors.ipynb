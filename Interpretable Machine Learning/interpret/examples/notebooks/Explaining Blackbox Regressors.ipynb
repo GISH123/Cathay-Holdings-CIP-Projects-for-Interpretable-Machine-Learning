{
 "cells": [
  {
   "cell_type": "markdown",
   "metadata": {},
   "source": [
    "## Setup a regression experiment"
   ]
  },
  {
   "cell_type": "code",
   "execution_count": 1,
   "metadata": {},
   "outputs": [],
   "source": [
    "import pandas as pd\n",
    "from sklearn.datasets import load_boston\n",
    "from sklearn.model_selection import train_test_split\n",
    "\n",
    "boston = load_boston()\n",
    "feature_names = list(boston.feature_names)\n",
    "X, y = pd.DataFrame(boston.data, columns=feature_names), boston.target\n",
    "\n",
    "seed = 1\n",
    "X_train, X_test, y_train, y_test = train_test_split(X, y, test_size=0.20, random_state=seed)"
   ]
  },
  {
   "cell_type": "markdown",
   "metadata": {},
   "source": [
    "## Train a blackbox regression system"
   ]
  },
  {
   "cell_type": "code",
   "execution_count": 2,
   "metadata": {},
   "outputs": [
    {
     "data": {
      "text/plain": [
       "Pipeline(memory=None,\n",
       "     steps=[('pca', PCA(copy=True, iterated_power='auto', n_components=None, random_state=None,\n",
       "  svd_solver='auto', tol=0.0, whiten=False)), ('rf', RandomForestRegressor(bootstrap=True, criterion='mse', max_depth=None,\n",
       "           max_features='auto', max_leaf_nodes=None,\n",
       "           min_impurity_decrease...mators=100, n_jobs=-1,\n",
       "           oob_score=False, random_state=None, verbose=0, warm_start=False))])"
      ]
     },
     "execution_count": 2,
     "metadata": {},
     "output_type": "execute_result"
    }
   ],
   "source": [
    "from sklearn.ensemble import RandomForestRegressor\n",
    "from sklearn.decomposition import PCA\n",
    "from sklearn.pipeline import Pipeline\n",
    "\n",
    "#Blackbox system can include preprocessing, not just a regressor!\n",
    "pca = PCA()\n",
    "rf = RandomForestRegressor(n_estimators=100, n_jobs=-1)\n",
    "\n",
    "blackbox_model = Pipeline([('pca', pca), ('rf', rf)])\n",
    "blackbox_model.fit(X_train, y_train)"
   ]
  },
  {
   "cell_type": "markdown",
   "metadata": {},
   "source": [
    "## Show blackbox model performance"
   ]
  },
  {
   "cell_type": "code",
   "execution_count": 1,
   "metadata": {
    "scrolled": false
   },
   "outputs": [
    {
     "ename": "NameError",
     "evalue": "name 'blackbox_model' is not defined",
     "output_type": "error",
     "traceback": [
      "\u001b[1;31m---------------------------------------------------------------------------\u001b[0m",
      "\u001b[1;31mNameError\u001b[0m                                 Traceback (most recent call last)",
      "\u001b[1;32m<ipython-input-1-5d29115502c3>\u001b[0m in \u001b[0;36m<module>\u001b[1;34m\u001b[0m\n\u001b[0;32m      2\u001b[0m \u001b[1;32mfrom\u001b[0m \u001b[0minterpret\u001b[0m\u001b[1;33m.\u001b[0m\u001b[0mperf\u001b[0m \u001b[1;32mimport\u001b[0m \u001b[0mRegressionPerf\u001b[0m\u001b[1;33m\u001b[0m\u001b[1;33m\u001b[0m\u001b[0m\n\u001b[0;32m      3\u001b[0m \u001b[1;33m\u001b[0m\u001b[0m\n\u001b[1;32m----> 4\u001b[1;33m \u001b[0mblackbox_perf\u001b[0m \u001b[1;33m=\u001b[0m \u001b[0mRegressionPerf\u001b[0m\u001b[1;33m(\u001b[0m\u001b[0mblackbox_model\u001b[0m\u001b[1;33m.\u001b[0m\u001b[0mpredict\u001b[0m\u001b[1;33m)\u001b[0m\u001b[1;33m.\u001b[0m\u001b[0mexplain_perf\u001b[0m\u001b[1;33m(\u001b[0m\u001b[0mX_test\u001b[0m\u001b[1;33m,\u001b[0m \u001b[0my_test\u001b[0m\u001b[1;33m,\u001b[0m \u001b[0mname\u001b[0m\u001b[1;33m=\u001b[0m\u001b[1;34m'Blackbox'\u001b[0m\u001b[1;33m)\u001b[0m\u001b[1;33m\u001b[0m\u001b[1;33m\u001b[0m\u001b[0m\n\u001b[0m\u001b[0;32m      5\u001b[0m \u001b[0mshow\u001b[0m\u001b[1;33m(\u001b[0m\u001b[0mblackbox_perf\u001b[0m\u001b[1;33m)\u001b[0m\u001b[1;33m\u001b[0m\u001b[1;33m\u001b[0m\u001b[0m\n",
      "\u001b[1;31mNameError\u001b[0m: name 'blackbox_model' is not defined"
     ]
    }
   ],
   "source": [
    "from interpret import show\n",
    "from interpret.perf import RegressionPerf\n",
    "\n",
    "blackbox_perf = RegressionPerf(blackbox_model.predict).explain_perf(X_test, y_test, name='Blackbox')\n",
    "show(blackbox_perf)"
   ]
  },
  {
   "cell_type": "markdown",
   "metadata": {},
   "source": [
    "## Local Explanations: How an individual prediction was made"
   ]
  },
  {
   "cell_type": "code",
   "execution_count": 4,
   "metadata": {
    "scrolled": false
   },
   "outputs": [
    {
     "data": {
      "text/html": [
       "<!-- http://127.0.0.1:7048/1478772469376/ -->\n",
       "<iframe src=\"http://127.0.0.1:7048/1478772469376/\" width=100% height=800 frameBorder=\"0\"></iframe>"
      ]
     },
     "metadata": {},
     "output_type": "display_data"
    }
   ],
   "source": [
    "from interpret.blackbox import LimeTabular\n",
    "from interpret import show\n",
    "\n",
    "#Blackbox explainers need a predict function, and optionally a dataset\n",
    "lime = LimeTabular(predict_fn=blackbox_model.predict, data=X_train, random_state=1)\n",
    "\n",
    "#Pick the instances to explain, optionally pass in labels if you have them\n",
    "lime_local = lime.explain_local(X_test[:5], y_test[:5], name='LIME')\n",
    "\n",
    "show(lime_local)"
   ]
  },
  {
   "cell_type": "code",
   "execution_count": 5,
   "metadata": {},
   "outputs": [
    {
     "data": {
      "application/vnd.jupyter.widget-view+json": {
       "model_id": "f539639799044cebba153d4d37ec4552",
       "version_major": 2,
       "version_minor": 0
      },
      "text/plain": [
       "HBox(children=(IntProgress(value=0, max=5), HTML(value='')))"
      ]
     },
     "metadata": {},
     "output_type": "display_data"
    },
    {
     "name": "stderr",
     "output_type": "stream",
     "text": [
      "C:\\ProgramData\\Anaconda3\\lib\\site-packages\\shap\\explainers\\kernel.py:545: UserWarning:\n",
      "\n",
      "l1_reg=\"auto\" is deprecated and in the next version (v0.29) the behavior will change from a conditional use of AIC to simply \"num_features(10)\"!\n",
      "\n",
      "C:\\ProgramData\\Anaconda3\\lib\\site-packages\\shap\\explainers\\kernel.py:545: UserWarning:\n",
      "\n",
      "l1_reg=\"auto\" is deprecated and in the next version (v0.29) the behavior will change from a conditional use of AIC to simply \"num_features(10)\"!\n",
      "\n",
      "C:\\ProgramData\\Anaconda3\\lib\\site-packages\\shap\\explainers\\kernel.py:545: UserWarning:\n",
      "\n",
      "l1_reg=\"auto\" is deprecated and in the next version (v0.29) the behavior will change from a conditional use of AIC to simply \"num_features(10)\"!\n",
      "\n",
      "C:\\ProgramData\\Anaconda3\\lib\\site-packages\\shap\\explainers\\kernel.py:545: UserWarning:\n",
      "\n",
      "l1_reg=\"auto\" is deprecated and in the next version (v0.29) the behavior will change from a conditional use of AIC to simply \"num_features(10)\"!\n",
      "\n",
      "C:\\ProgramData\\Anaconda3\\lib\\site-packages\\shap\\explainers\\kernel.py:545: UserWarning:\n",
      "\n",
      "l1_reg=\"auto\" is deprecated and in the next version (v0.29) the behavior will change from a conditional use of AIC to simply \"num_features(10)\"!\n",
      "\n"
     ]
    },
    {
     "name": "stdout",
     "output_type": "stream",
     "text": [
      "\n"
     ]
    },
    {
     "data": {
      "text/html": [
       "<!-- http://127.0.0.1:7048/1478778386696/ -->\n",
       "<iframe src=\"http://127.0.0.1:7048/1478778386696/\" width=100% height=800 frameBorder=\"0\"></iframe>"
      ]
     },
     "metadata": {},
     "output_type": "display_data"
    }
   ],
   "source": [
    "from interpret.blackbox import ShapKernel\n",
    "import numpy as np\n",
    "\n",
    "background_val = np.median(X_train, axis=0).reshape(1, -1)\n",
    "shap = ShapKernel(predict_fn=blackbox_model.predict, data=background_val, feature_names=feature_names)\n",
    "shap_local = shap.explain_local(X_test[:5], y_test[:5], name='SHAP')\n",
    "show(shap_local)"
   ]
  },
  {
   "cell_type": "markdown",
   "metadata": {},
   "source": [
    "## Global Explanations: How the model behaves overall"
   ]
  },
  {
   "cell_type": "code",
   "execution_count": 6,
   "metadata": {
    "scrolled": false
   },
   "outputs": [
    {
     "data": {
      "text/html": [
       "<!-- http://127.0.0.1:7048/1478778486288/ -->\n",
       "<iframe src=\"http://127.0.0.1:7048/1478778486288/\" width=100% height=800 frameBorder=\"0\"></iframe>"
      ]
     },
     "metadata": {},
     "output_type": "display_data"
    }
   ],
   "source": [
    "from interpret.blackbox import MorrisSensitivity\n",
    "\n",
    "sensitivity = MorrisSensitivity(predict_fn=blackbox_model.predict, data=X_train)\n",
    "sensitivity_global = sensitivity.explain_global(name=\"Global Sensitivity\")\n",
    "\n",
    "show(sensitivity_global)"
   ]
  },
  {
   "cell_type": "code",
   "execution_count": 7,
   "metadata": {},
   "outputs": [
    {
     "data": {
      "text/html": [
       "<!-- http://127.0.0.1:7048/1478779541600/ -->\n",
       "<iframe src=\"http://127.0.0.1:7048/1478779541600/\" width=100% height=800 frameBorder=\"0\"></iframe>"
      ]
     },
     "metadata": {},
     "output_type": "display_data"
    }
   ],
   "source": [
    "from interpret.blackbox import PartialDependence\n",
    "\n",
    "pdp = PartialDependence(predict_fn=blackbox_model.predict, data=X_train)\n",
    "pdp_global = pdp.explain_global(name='Partial Dependence')\n",
    "\n",
    "show(pdp_global)"
   ]
  },
  {
   "cell_type": "markdown",
   "metadata": {},
   "source": [
    "## Compare them all in the Dashboard"
   ]
  },
  {
   "cell_type": "code",
   "execution_count": 8,
   "metadata": {
    "scrolled": false
   },
   "outputs": [
    {
     "data": {
      "text/html": [
       "<!-- http://127.0.0.1:7048/1478774995144/ -->\n",
       "<a href=\"http://127.0.0.1:7048/1478774995144/\" target=\"_new\">Open in new window</a><iframe src=\"http://127.0.0.1:7048/1478774995144/\" width=100% height=800 frameBorder=\"0\"></iframe>"
      ]
     },
     "metadata": {},
     "output_type": "display_data"
    }
   ],
   "source": [
    "show([blackbox_perf, lime_local, shap_local, sensitivity_global, pdp_global])"
   ]
  }
 ],
 "metadata": {
  "kernelspec": {
   "display_name": "Python 3",
   "language": "python",
   "name": "python3"
  },
  "language_info": {
   "codemirror_mode": {
    "name": "ipython",
    "version": 3
   },
   "file_extension": ".py",
   "mimetype": "text/x-python",
   "name": "python",
   "nbconvert_exporter": "python",
   "pygments_lexer": "ipython3",
   "version": "3.7.3"
  }
 },
 "nbformat": 4,
 "nbformat_minor": 2
}
